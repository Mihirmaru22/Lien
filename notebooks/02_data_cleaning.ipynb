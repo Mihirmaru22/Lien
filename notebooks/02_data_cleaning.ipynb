{
 "cells": [
  {
   "cell_type": "code",
   "execution_count": null,
   "id": "00dda766",
   "metadata": {},
   "outputs": [],
   "source": [
    "import numpy as np\n",
    "import pandas as pd"
   ]
  },
  {
   "cell_type": "code",
   "execution_count": 2,
   "id": "f7231b99",
   "metadata": {},
   "outputs": [],
   "source": [
    "df = pd.read_csv('../data/processed/Telco-Customer-Churn.csv')"
   ]
  },
  {
   "cell_type": "code",
   "execution_count": 3,
   "id": "ffdd4091",
   "metadata": {},
   "outputs": [],
   "source": [
    "Q1 = df['MonthlyCharges'].quantile(0.25)\n",
    "Q3 = df['MonthlyCharges'].quantile(0.75)\n",
    "IQR = Q3 - Q1\n",
    "\n",
    "lower = Q1 - 1.5 * IQR\n",
    "upper = Q3 + 1.5 * IQR\n",
    "\n",
    "# Cap outliers\n",
    "df['MonthlyCharges'] = np.where(df['MonthlyCharges'] > upper, upper,\n",
    "                                np.where(df['MonthlyCharges'] < lower, lower, df['MonthlyCharges']))"
   ]
  }
 ],
 "metadata": {
  "kernelspec": {
   "display_name": "venv",
   "language": "python",
   "name": "python3"
  },
  "language_info": {
   "codemirror_mode": {
    "name": "ipython",
    "version": 3
   },
   "file_extension": ".py",
   "mimetype": "text/x-python",
   "name": "python",
   "nbconvert_exporter": "python",
   "pygments_lexer": "ipython3",
   "version": "3.13.5"
  }
 },
 "nbformat": 4,
 "nbformat_minor": 5
}
